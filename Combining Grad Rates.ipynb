{
 "cells": [
  {
   "cell_type": "code",
   "execution_count": 1,
   "metadata": {},
   "outputs": [],
   "source": [
    "import matplotlib.pyplot as plt\n",
    "import pandas as pd\n",
    "import numpy as np\n",
    "import requests\n",
    "import time\n",
    "from scipy.stats import linregress\n",
    "from pprint import pprint\n",
    "import json"
   ]
  },
  {
   "cell_type": "code",
   "execution_count": 2,
   "metadata": {},
   "outputs": [],
   "source": [
    "#Creating a Variable for all files to be read \n",
    "g2006= \"grad2006.csv\"\n",
    "g2007= \"grad2007.csv\"\n",
    "g2008= \"grad2008.csv\"\n",
    "g2009= \"grad2009.csv\""
   ]
  },
  {
   "cell_type": "code",
   "execution_count": 3,
   "metadata": {},
   "outputs": [],
   "source": [
    "#Reading all CSV files\n",
    "df_2006 = pd.read_csv(g2006)\n",
    "df_2007 = pd.read_csv(g2007)\n",
    "df_2008 = pd.read_csv(g2008)\n",
    "df_2009 = pd.read_csv(g2009)"
   ]
  },
  {
   "cell_type": "code",
   "execution_count": 4,
   "metadata": {},
   "outputs": [],
   "source": [
    "#Renaming 2007 column names so they match the rest of the files\n",
    "df_2007.rename(columns ={'survyear' : \"SURVYEAR\", 'fipst':\"FIPST\",'leaid':\"LEAID\",\"totd912\":\"TOTD912\",\n",
    "                         \"ebs912\":\"EBS912\",\"drp912\":\"DRP912\",\"totdpl\":\"TOTDPL\",\"afgeb\":\"AFGEB\",\n",
    "                         \"afgr\":\"AFGR\",\"totohc\":\"TOTOHC\"}, inplace = True)"
   ]
  },
  {
   "cell_type": "code",
   "execution_count": 5,
   "metadata": {},
   "outputs": [],
   "source": [
    "\n",
    "#Concatinating all files into one big dataframe\n",
    "a = pd.concat([df_2006,df_2007], ignore_index = True)"
   ]
  },
  {
   "cell_type": "code",
   "execution_count": 6,
   "metadata": {},
   "outputs": [],
   "source": [
    "b = pd.concat([a,df_2008], ignore_index = True)"
   ]
  },
  {
   "cell_type": "code",
   "execution_count": 9,
   "metadata": {},
   "outputs": [],
   "source": [
    "finished_DF = pd.concat([b,df_2009], ignore_index = True)"
   ]
  },
  {
   "cell_type": "code",
   "execution_count": null,
   "metadata": {},
   "outputs": [],
   "source": [
    "#Creating a csv file with complete DF\n",
    "finished_DF.to_csv(\"output/cities.csv\")"
   ]
  },
  {
   "cell_type": "code",
   "execution_count": null,
   "metadata": {},
   "outputs": [],
   "source": []
  }
 ],
 "metadata": {
  "kernelspec": {
   "display_name": "Python 3",
   "language": "python",
   "name": "python3"
  },
  "language_info": {
   "codemirror_mode": {
    "name": "ipython",
    "version": 3
   },
   "file_extension": ".py",
   "mimetype": "text/x-python",
   "name": "python",
   "nbconvert_exporter": "python",
   "pygments_lexer": "ipython3",
   "version": "3.7.6"
  }
 },
 "nbformat": 4,
 "nbformat_minor": 4
}
